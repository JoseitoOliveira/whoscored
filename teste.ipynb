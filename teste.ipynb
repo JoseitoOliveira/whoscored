{
 "metadata": {
  "language_info": {
   "codemirror_mode": {
    "name": "ipython",
    "version": 3
   },
   "file_extension": ".py",
   "mimetype": "text/x-python",
   "name": "python",
   "nbconvert_exporter": "python",
   "pygments_lexer": "ipython3",
   "version": "3.8.3-final"
  },
  "orig_nbformat": 2,
  "kernelspec": {
   "name": "python38364bitvenvvenva89e74cdbe434e9997a68d3d1dfa921a",
   "display_name": "Python 3.8.3 64-bit ('.venv': venv)"
  }
 },
 "nbformat": 4,
 "nbformat_minor": 2,
 "cells": [
  {
   "cell_type": "code",
   "execution_count": 1,
   "metadata": {},
   "outputs": [],
   "source": [
    "from navegador import MyChrome_configurado, MyChrome\n",
    "from selenium.common.exceptions import JavascriptException\n",
    "from selenium.webdriver.remote.webelement import WebElement\n",
    "from time import sleep\n",
    "from typing import List, Text, Union\n",
    "import json\n",
    "import yaml"
   ]
  },
  {
   "cell_type": "code",
   "execution_count": 5,
   "metadata": {},
   "outputs": [],
   "source": [
    "def click_previus_day(driver: MyChrome) -> None:\n",
    "    class_btn = 'rc-l'\n",
    "    btn: Union[WebElement, None] = driver.find_elements_by_class_name(class_btn)\n",
    "    print(btn)\n",
    "    if btn:\n",
    "        btn.click()"
   ]
  },
  {
   "cell_type": "code",
   "execution_count": 3,
   "metadata": {},
   "outputs": [],
   "source": [
    "driver1 = MyChrome_configurado()\n",
    "driver1.get('https://1xbet.whoscored.com/LiveScores')\n",
    "sleep(5)\n",
    "click_previus_day(driver1)"
   ]
  },
  {
   "cell_type": "code",
   "execution_count": 6,
   "metadata": {
    "tags": []
   },
   "outputs": [
    {
     "output_type": "stream",
     "name": "stdout",
     "text": "<selenium.webdriver.remote.webelement.WebElement (session=\"018f01c176d2b70bef5690186558cc0b\", element=\"22d39fa3-8dc1-403e-8cb8-a59407fc136d\")>\n"
    }
   ],
   "source": [
    "click_previus_day(driver1)"
   ]
  },
  {
   "cell_type": "code",
   "execution_count": null,
   "metadata": {},
   "outputs": [],
   "source": []
  }
 ]
}